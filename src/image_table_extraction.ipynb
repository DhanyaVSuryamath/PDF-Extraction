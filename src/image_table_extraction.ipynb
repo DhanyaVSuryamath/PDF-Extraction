{
 "cells": [
  {
   "cell_type": "code",
   "execution_count": 2,
   "id": "6acfbaa9",
   "metadata": {},
   "outputs": [],
   "source": [
    "image6 = r\"C:\\Users\\CHINMAYI SURYAMATH\\Desktop\\ML PROJECT ECOMMERCE\\NN_pdf\\Data\\image6_(of_table2_premium_details).jpg\""
   ]
  },
  {
   "cell_type": "code",
   "execution_count": 3,
   "id": "2db3cd3d",
   "metadata": {},
   "outputs": [],
   "source": [
    "from PIL import Image\n",
    "import pytesseract\n",
    "\n",
    "pytesseract.tesseract_cmd = r\"C:\\Program Files\\Tesseract-OCR\\tesseract.exe\"\n",
    "\n",
    "img = Image.open(image6)  # your image file\n"
   ]
  },
  {
   "cell_type": "code",
   "execution_count": 4,
   "id": "da3ab837",
   "metadata": {},
   "outputs": [],
   "source": [
    "import pandas as pd\n",
    "import pytesseract\n",
    "pytesseract.pytesseract.tesseract_cmd = r\"C:\\Program Files\\Tesseract-OCR\\tesseract.exe\"\n",
    "\n",
    "# Use pytesseract to get detailed info\n",
    "ocr_data = pytesseract.image_to_data(img, output_type=pytesseract.Output.DATAFRAME)\n",
    "\n",
    "# Remove empty rows\n",
    "ocr_data = ocr_data[ocr_data['text'].notna() & (ocr_data['text'].str.strip() != '')]\n"
   ]
  },
  {
   "cell_type": "code",
   "execution_count": 5,
   "id": "81ee2f82",
   "metadata": {},
   "outputs": [],
   "source": [
    "import pandas as pd\n",
    "\n",
    "# Use pytesseract to get detailed info\n",
    "ocr_data = pytesseract.image_to_data(img, output_type=pytesseract.Output.DATAFRAME)\n",
    "\n",
    "# Remove empty rows\n",
    "ocr_data = ocr_data[ocr_data['text'].notna() & (ocr_data['text'].str.strip() != '')]\n"
   ]
  },
  {
   "cell_type": "code",
   "execution_count": 8,
   "id": "e6c7e951",
   "metadata": {},
   "outputs": [
    {
     "name": "stdout",
     "output_type": "stream",
     "text": [
      "     0        1               2      3      4         5          6           7        8          9   ...    32    33       34    35       36    37    38    39        40        41\n",
      "0  RATE  PREMIUM         ADVANCE  secog      +    Yacane  Bulidings           ~      not  factories  ...     -  Boat  storage    or  moorage    st    If   Any  Included  Included\n",
      "1  CODE       #-  CLASSIFICATION      *  BASIS  Prem/Ops          |  ProgiComp|  PREMIUM     Vacant  ...  None  None     None  None     None  None  None  None      None      None\n",
      "2   Ips     None            None   None   None      None       None        None     None       None  ...  None  None     None  None     None  None  None  None      None      None\n",
      "\n",
      "[3 rows x 42 columns]\n",
      "Table saved as JSON at C:\\Users\\CHINMAYI SURYAMATH\\Desktop\\ML PROJECT ECOMMERCE\\NN_pdf\\Output\\image6_extracted_table.json\n"
     ]
    }
   ],
   "source": [
    "json_path = r\"C:\\Users\\CHINMAYI SURYAMATH\\Desktop\\ML PROJECT ECOMMERCE\\NN_pdf\\Output\\image6_extracted_table.json\"\n",
    "\n",
    "rows = []\n",
    "pd.set_option('display.width', 200)\n",
    "\n",
    "for line_num, group in ocr_data.groupby('line_num'):\n",
    "    row_text = [word for word in group['text']]  # each word as a column\n",
    "    rows.append(row_text)\n",
    "\n",
    "# Convert to DataFrame\n",
    "df = pd.DataFrame(rows)\n",
    "print(df)\n",
    "\n",
    "df.to_json(json_path, orient=\"records\", force_ascii=False, indent=4)\n",
    "df.to_csv(r\"C:\\Users\\CHINMAYI SURYAMATH\\Desktop\\ML PROJECT ECOMMERCE\\NN_pdf\\Output\\image6_.csv\")\n",
    "print(f\"Table saved as JSON at {json_path}\")\n",
    "\n"
   ]
  },
  {
   "cell_type": "code",
   "execution_count": null,
   "id": "e38471e2",
   "metadata": {},
   "outputs": [],
   "source": []
  },
  {
   "cell_type": "code",
   "execution_count": null,
   "id": "3f5b4ff5",
   "metadata": {},
   "outputs": [
    {
     "name": "stdout",
     "output_type": "stream",
     "text": [
      "                                                   0                             1                                                  2                          3                  4\n",
      "0  PREMIUM ADVANCE\\nCODE # - CLASSIFICATION BASIS...                          None                                               None                       None               None\n",
      "1                                     PREMIUM\\nBASIS                          RATE                                 ADVANCE\\nPREMIUM |  CODE # - CLASSIFICATION |                   \n",
      "2                                   Prod/Com|\\nOps P                    ~ Prem/Ops                                               None                       None               None\n",
      "3                           48.891\\n10.500\\nIncluded  Included\\nIncluded\\nIncluded  Vacant Buildings - not factories -\\n68606 - Or...                  ar\\nue\\n|  11,500\\n6\\nIf Any\n"
     ]
    }
   ],
   "source": []
  },
  {
   "cell_type": "code",
   "execution_count": null,
   "id": "3e3d8fed",
   "metadata": {},
   "outputs": [],
   "source": []
  }
 ],
 "metadata": {
  "kernelspec": {
   "display_name": "NEW_ENV (3.13.1)",
   "language": "python",
   "name": "python3"
  },
  "language_info": {
   "codemirror_mode": {
    "name": "ipython",
    "version": 3
   },
   "file_extension": ".py",
   "mimetype": "text/x-python",
   "name": "python",
   "nbconvert_exporter": "python",
   "pygments_lexer": "ipython3",
   "version": "3.13.1"
  }
 },
 "nbformat": 4,
 "nbformat_minor": 5
}
