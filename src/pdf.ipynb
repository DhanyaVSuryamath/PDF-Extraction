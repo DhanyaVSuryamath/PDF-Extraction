{
 "cells": [
  {
   "cell_type": "code",
   "execution_count": null,
   "id": "6098e0b2",
   "metadata": {},
   "outputs": [],
   "source": []
  },
  {
   "cell_type": "code",
   "execution_count": null,
   "id": "a4c3c33e",
   "metadata": {},
   "outputs": [],
   "source": []
  },
  {
   "cell_type": "code",
   "execution_count": 3,
   "id": "b49dc210",
   "metadata": {},
   "outputs": [],
   "source": [
    "from langchain_openai import OpenAI\n",
    "from langchain_openai import ChatOpenAI\n",
    "import textwrap\n",
    "from langchain.prompts import *\n",
    "from config import OPENAI_API_KEY\n",
    "from langchain_core.output_parsers import StrOutputParser"
   ]
  },
  {
   "cell_type": "code",
   "execution_count": 1,
   "id": "44418289",
   "metadata": {},
   "outputs": [
    {
     "name": "stdout",
     "output_type": "stream",
     "text": [
      "56\n"
     ]
    }
   ],
   "source": [
    "from langchain_community.document_loaders import PyPDFLoader\n",
    "\n",
    "loader = PyPDFLoader(r'C:\\Users\\CHINMAYI SURYAMATH\\Desktop\\ML PROJECT ECOMMERCE\\NN_pdf\\Data\\Nautilus_insurance_company_policy_document.pdf')\n",
    "docs = loader.load()\n",
    "\n",
    "print(len(docs))\n",
    "\n"
   ]
  },
  {
   "cell_type": "code",
   "execution_count": 2,
   "id": "a74393c1",
   "metadata": {},
   "outputs": [
    {
     "data": {
      "text/plain": [
       "'COMMERCIAL LINES POLICY- COMMON POLICY DECLARATIONS \\nNAUTILUS INSURANCE COMPANY \\nScottsdale, Arizona \\nPolicy No. NN893805 Transaction Type: Renewal \\nRenewal of Policy# NN89 3427 \\nRewrite of Policy# ______ _ \\nInspection Ordered: \\nl:RlYes 0No This insurance contract is issued pursuant to the \\nMaine Insurance Laws by an insurer neither \\nlicensed by norunder the jurisdiction of the \\nMaine Bureau of Insurance. \\nCross Ref. Policy# ______ _ \\nNIC Quote# \\nNamed Insured and Mailing Address \\n(No., Street, Town or City, County, State, Zip Code) \\nEstate of John S. Norton, Sr. \\nBeth Preston \\nAgent and Mailing Address \\nAgency No. 1803-00 \\n(No., Street, Town or City, County, State, Zip Code) \\nBreckenridge Insurance Services, LLC \\nPO Box 9010 \\n1 Acadia Commons \\nWestbrook \\nPolicy \\nME 04098 \\nNO FLAT CANCELLATION \\nPeriod: From 08/08/2019 to o 8 / o 8 / 2 o 2 o at 12:01 A.M. Standard Time at your mailing address shown above. \\nBusiness Description: Property Owner \\nForm of Business: Individual \\nTax Statel§_ \\nIN RETURN FOR THE PAYMENT OF THE PREMIUM, AND SUBJECT TO ALL THE TERMS OF THIS POLICY, \\nWE WILL PROVIDE YOU THE INSURANCE STATED IN THIS POLICY. \\nTHIS POLICY CONSISTS OF THE FOLLOWING COVERAGE PARTS FOR WHICH A PREMIUM IS INDICATED. \\nTHIS PREMIUM MAY BE SUBJECT TO ADJUSTMENT. PREMIUM \\nCommercial General Liability Coverage Part $ 1,100.00 \\n$ ________ _ \\n$ _______ _ \\n$ _______ _ \\n$ _______ _ \\n$ _______ _ \\n$ _______ _ \\nTax & Fee Schedule TOTAL ADVANCE PREMIUM $ 1 100. 00 \\nPolicy Fee \\nInspection Fee Surplus Lines Tax \\n$ 65. oo Minimum & Deposit 150.00 \\n39 · 45 TOTAL TAXES & FEES $ _____ 2_5_4_._4_5 \\nTOTAL $ ____ 1�,_3_5_4_. _4_5 \\nForm(s) and Endorsement(s) made a part of this policy at time of issue: \\nCountersigned: Westbrook, ME \\n07/30/2019 AD IG \\nRefer to Schedule of Forms and Endorsements. \\n�(,_� By____ , \\nCountersignature or Authorized Representative, whichever is applicable \\nTHESE DECLARATIONS TOGETHER WITH THE COMMON POLICY CONDITIONS, COVERAGE PART DECLARATIONS, COVERAGE PART COVERAGE \\nFORM(S) AND FORMS AND ENDORSEMENTS, IF ANY, ISSUED TO FORM A PART THEREOF, COMPLETE THE ABOVE NUMBERED POLICY. \\nIncludes copyrighted material of Insurance Services Office, Inc., with its permission. \\nEXHIBIT \\nE001 (02/14) \\nTRANZON AUCTION PROPERTIES DISCLAIMER: This information was derived from sources believed correct but is not guaranteed. Interested \\nparties shall rely entirely on their own information and judgment. Property is being sold on an \"AS IS, WHERE IS\" basis.'"
      ]
     },
     "execution_count": 2,
     "metadata": {},
     "output_type": "execute_result"
    }
   ],
   "source": [
    "docs[0].page_content"
   ]
  },
  {
   "cell_type": "code",
   "execution_count": 3,
   "id": "c99cc07d",
   "metadata": {},
   "outputs": [
    {
     "data": {
      "text/plain": [
       "'COMMERCIAL LINES POLICY- COMMON POLICY DECLARATIONS \\nNAUTILUS INSURANCE COMPANY \\nScottsdale, Arizona \\nPolicy No. NN893805 Transaction Type: Renewal \\nRenewal of Policy# NN89 3427 \\nRewrite of Policy# ______ _ \\nInspection Ordered: \\nl:RlYes 0No This insurance contract is issued pursuant to the \\nMaine Insurance Laws by an insurer neither \\nlicensed by norunder the jurisdiction of the \\nMaine Bureau of Insurance. \\nCross Ref. Policy# ______ _ \\nNIC Quote# \\nNamed Insured and Mailing Address \\n(No., Street, '"
      ]
     },
     "execution_count": 3,
     "metadata": {},
     "output_type": "execute_result"
    }
   ],
   "source": [
    "docs[0].page_content[:500]"
   ]
  },
  {
   "cell_type": "code",
   "execution_count": 46,
   "id": "bb9fc0fc",
   "metadata": {},
   "outputs": [],
   "source": [
    "from langchain_openai import ChatOpenAI\n",
    "\n",
    "def prompt2(prompt,**kwargs):\n",
    "    loader = PyPDFLoader(r'C:\\Users\\CHINMAYI SURYAMATH\\Desktop\\ML PROJECT ECOMMERCE\\NN_pdf\\Data\\Nautilus_insurance_company_policy_document.pdf')\n",
    "    docs = loader.load()\n",
    "    llm = ChatOpenAI(api_key=OPENAI_API_KEY, model = \"gpt-4o-mini\", **kwargs  )\n",
    "    response = llm.invoke(prompt)\n",
    "    print(response.content)\n"
   ]
  },
  {
   "cell_type": "code",
   "execution_count": 47,
   "id": "4d3be204",
   "metadata": {},
   "outputs": [
    {
     "name": "stdout",
     "output_type": "stream",
     "text": [
      "I'm sorry, but I can't access or view files directly. However, you can check the policy effective date in the document by looking for sections typically labeled \"Effective Date,\" \"Policy Period,\" or similar terms. If you have specific text from the document that you can share, I can help you interpret it!\n"
     ]
    }
   ],
   "source": [
    "prompt = \"What is the policy effective date in the uploaded pdf policy document named - Nautilus_insurance_company_policy_document.pdf\"\n",
    "prompt2(prompt, temperature =0.0)"
   ]
  },
  {
   "cell_type": "markdown",
   "id": "f9a752e5",
   "metadata": {},
   "source": [
    "Character splitting "
   ]
  },
  {
   "cell_type": "code",
   "execution_count": 5,
   "id": "fe9a0243",
   "metadata": {},
   "outputs": [
    {
     "name": "stdout",
     "output_type": "stream",
     "text": [
      "Character Splitter → 56 chunks\n"
     ]
    }
   ],
   "source": [
    "from langchain.text_splitter import CharacterTextSplitter\n",
    "\n",
    "char_splitter = CharacterTextSplitter(chunk_size=1000, chunk_overlap=100)\n",
    "char_chunks = char_splitter.split_documents(docs)\n",
    "\n",
    "print(f\"Character Splitter → {len(char_chunks)} chunks\")\n"
   ]
  },
  {
   "cell_type": "code",
   "execution_count": 48,
   "id": "f94f4414",
   "metadata": {},
   "outputs": [
    {
     "data": {
      "text/plain": [
       "Document(metadata={'producer': 'Adobe Acrobat Pro 11.0.23 Paper Capture Plug-in', 'creator': 'PyPDF', 'creationdate': '2021-04-13T14:11:19+00:00', 'moddate': '2021-04-19T15:06:30-04:00', 'source': 'C:\\\\Users\\\\CHINMAYI SURYAMATH\\\\Desktop\\\\ML PROJECT ECOMMERCE\\\\NN_pdf\\\\Data\\\\Nautilus_insurance_company_policy_document.pdf', 'total_pages': 56, 'page': 0, 'page_label': '1'}, page_content='COMMERCIAL LINES POLICY- COMMON POLICY DECLARATIONS \\nNAUTILUS INSURANCE COMPANY \\nScottsdale, Arizona \\nPolicy No. NN893805 Transaction Type: Renewal \\nRenewal of Policy# NN89 3427 \\nRewrite of Policy# ______ _ \\nInspection Ordered: \\nl:RlYes 0No This insurance contract is issued pursuant to the \\nMaine Insurance Laws by an insurer neither \\nlicensed by norunder the jurisdiction of the \\nMaine Bureau of Insurance. \\nCross Ref. Policy# ______ _ \\nNIC Quote# \\nNamed Insured and Mailing Address \\n(No., Street, Town or City, County, State, Zip Code) \\nEstate of John S. Norton, Sr. \\nBeth Preston \\nAgent and Mailing Address \\nAgency No. 1803-00 \\n(No., Street, Town or City, County, State, Zip Code) \\nBreckenridge Insurance Services, LLC \\nPO Box 9010 \\n1 Acadia Commons \\nWestbrook \\nPolicy \\nME 04098 \\nNO FLAT CANCELLATION \\nPeriod: From 08/08/2019 to o 8 / o 8 / 2 o 2 o at 12:01 A.M. Standard Time at your mailing address shown above. \\nBusiness Description: Property Owner \\nForm of Business: Individual \\nTax Statel§_ \\nIN RETURN FOR THE PAYMENT OF THE PREMIUM, AND SUBJECT TO ALL THE TERMS OF THIS POLICY, \\nWE WILL PROVIDE YOU THE INSURANCE STATED IN THIS POLICY. \\nTHIS POLICY CONSISTS OF THE FOLLOWING COVERAGE PARTS FOR WHICH A PREMIUM IS INDICATED. \\nTHIS PREMIUM MAY BE SUBJECT TO ADJUSTMENT. PREMIUM \\nCommercial General Liability Coverage Part $ 1,100.00 \\n$ ________ _ \\n$ _______ _ \\n$ _______ _ \\n$ _______ _ \\n$ _______ _ \\n$ _______ _ \\nTax & Fee Schedule TOTAL ADVANCE PREMIUM $ 1 100. 00 \\nPolicy Fee \\nInspection Fee Surplus Lines Tax \\n$ 65. oo Minimum & Deposit 150.00 \\n39 · 45 TOTAL TAXES & FEES $ _____ 2_5_4_._4_5 \\nTOTAL $ ____ 1�,_3_5_4_. _4_5 \\nForm(s) and Endorsement(s) made a part of this policy at time of issue: \\nCountersigned: Westbrook, ME \\n07/30/2019 AD IG \\nRefer to Schedule of Forms and Endorsements. \\n�(,_� By____ , \\nCountersignature or Authorized Representative, whichever is applicable \\nTHESE DECLARATIONS TOGETHER WITH THE COMMON POLICY CONDITIONS, COVERAGE PART DECLARATIONS, COVERAGE PART COVERAGE \\nFORM(S) AND FORMS AND ENDORSEMENTS, IF ANY, ISSUED TO FORM A PART THEREOF, COMPLETE THE ABOVE NUMBERED POLICY. \\nIncludes copyrighted material of Insurance Services Office, Inc., with its permission. \\nEXHIBIT \\nE001 (02/14) \\nTRANZON AUCTION PROPERTIES DISCLAIMER: This information was derived from sources believed correct but is not guaranteed. Interested \\nparties shall rely entirely on their own information and judgment. Property is being sold on an \"AS IS, WHERE IS\" basis.')"
      ]
     },
     "execution_count": 48,
     "metadata": {},
     "output_type": "execute_result"
    }
   ],
   "source": [
    "char_chunks[0]"
   ]
  },
  {
   "cell_type": "code",
   "execution_count": 50,
   "id": "27c2eacd",
   "metadata": {},
   "outputs": [
    {
     "name": "stdout",
     "output_type": "stream",
     "text": [
      "📅 Effective Date: The policy effective date is from **08/08/2019 to 08/08/2020**.\n"
     ]
    }
   ],
   "source": [
    "from langchain_openai import ChatOpenAI\n",
    "from langchain_core.prompts import PromptTemplate\n",
    "\n",
    "# Initialize the LLM\n",
    "llm = ChatOpenAI(api_key=OPENAI_API_KEY, model=\"gpt-4o-mini\", temperature=0.0)\n",
    "\n",
    "# Create a prompt template\n",
    "template = PromptTemplate.from_template(\n",
    "    \"Extract the policy effective date from the following insurance document:\\n\\n{document_text}\"\n",
    ")\n",
    "\n",
    "# Format the prompt with the chunk content\n",
    "formatted_prompt = template.format(document_text=char_chunks[0].page_content)\n",
    "\n",
    "# Invoke the model\n",
    "response = llm.invoke(formatted_prompt)\n",
    "\n",
    "# Print the result\n",
    "print(\"📅 Effective Date:\", response.content)"
   ]
  },
  {
   "cell_type": "code",
   "execution_count": null,
   "id": "0fae169c",
   "metadata": {},
   "outputs": [],
   "source": []
  },
  {
   "cell_type": "code",
   "execution_count": null,
   "id": "5307781b",
   "metadata": {},
   "outputs": [],
   "source": []
  },
  {
   "cell_type": "code",
   "execution_count": null,
   "id": "e91d8544",
   "metadata": {},
   "outputs": [],
   "source": []
  },
  {
   "cell_type": "markdown",
   "id": "0149237e",
   "metadata": {},
   "source": [
    "Recursive Character Splitter"
   ]
  },
  {
   "cell_type": "code",
   "execution_count": 6,
   "id": "1e3470e4",
   "metadata": {},
   "outputs": [
    {
     "name": "stdout",
     "output_type": "stream",
     "text": [
      "Recursive Splitter → 187 chunks\n"
     ]
    }
   ],
   "source": [
    "from langchain.text_splitter import RecursiveCharacterTextSplitter\n",
    "\n",
    "recursive_splitter = RecursiveCharacterTextSplitter(\n",
    "    chunk_size=1000, chunk_overlap=100\n",
    ")\n",
    "recursive_chunks = recursive_splitter.split_documents(docs)\n",
    "\n",
    "print(f\"Recursive Splitter → {len(recursive_chunks)} chunks\")\n"
   ]
  },
  {
   "cell_type": "code",
   "execution_count": null,
   "id": "f548b615",
   "metadata": {},
   "outputs": [],
   "source": []
  },
  {
   "cell_type": "markdown",
   "id": "328040bb",
   "metadata": {},
   "source": [
    "Token Splitter (useful for LLM context windows)"
   ]
  },
  {
   "cell_type": "code",
   "execution_count": 7,
   "id": "4c8e1ab9",
   "metadata": {},
   "outputs": [
    {
     "name": "stdout",
     "output_type": "stream",
     "text": [
      "Token Splitter → 207 chunks\n"
     ]
    }
   ],
   "source": [
    "from langchain.text_splitter import TokenTextSplitter\n",
    "\n",
    "token_splitter = TokenTextSplitter(chunk_size=256, chunk_overlap=50)\n",
    "token_chunks = token_splitter.split_documents(docs)\n",
    "\n",
    "print(f\"Token Splitter → {len(token_chunks)} chunks\")\n"
   ]
  },
  {
   "cell_type": "code",
   "execution_count": null,
   "id": "6b0bda68",
   "metadata": {},
   "outputs": [],
   "source": []
  },
  {
   "cell_type": "code",
   "execution_count": 13,
   "id": "5b1da944",
   "metadata": {},
   "outputs": [],
   "source": [
    "from config import OPENAI_API_KEY\n",
    "\n",
    "from langchain_openai import OpenAIEmbeddings\n",
    "\n",
    "embeddings = OpenAIEmbeddings(model=\"text-embedding-3-small\", api_key=OPENAI_API_KEY)"
   ]
  },
  {
   "cell_type": "code",
   "execution_count": 14,
   "id": "10c71f74",
   "metadata": {},
   "outputs": [
    {
     "data": {
      "text/plain": [
       "OpenAIEmbeddings(client=<openai.resources.embeddings.Embeddings object at 0x000002983CE042F0>, async_client=<openai.resources.embeddings.AsyncEmbeddings object at 0x000002983CE04C20>, model='text-embedding-3-small', dimensions=None, deployment='text-embedding-ada-002', openai_api_version=None, openai_api_base=None, openai_api_type=None, openai_proxy=None, embedding_ctx_length=8191, openai_api_key=SecretStr('**********'), openai_organization=None, allowed_special=None, disallowed_special=None, chunk_size=1000, max_retries=2, request_timeout=None, headers=None, tiktoken_enabled=True, tiktoken_model_name=None, show_progress_bar=False, model_kwargs={}, skip_empty=False, default_headers=None, default_query=None, retry_min_seconds=4, retry_max_seconds=20, http_client=None, http_async_client=None, check_embedding_ctx_length=True)"
      ]
     },
     "execution_count": 14,
     "metadata": {},
     "output_type": "execute_result"
    }
   ],
   "source": [
    "embeddings"
   ]
  },
  {
   "cell_type": "code",
   "execution_count": 20,
   "id": "8b552735",
   "metadata": {},
   "outputs": [
    {
     "name": "stdout",
     "output_type": "stream",
     "text": [
      "1536\n",
      "[0.0146182207390666, -0.00627850042656064, 0.031234433874487877, 0.044967468827962875, -0.08457323908805847]\n"
     ]
    }
   ],
   "source": [
    "vector = embeddings.embed_query(\"What does this insurance policy cover?\")\n",
    "print(len(vector))   # 1536 dimensions\n",
    "print(vector[:5])"
   ]
  },
  {
   "cell_type": "code",
   "execution_count": 21,
   "id": "fff27217",
   "metadata": {},
   "outputs": [
    {
     "name": "stdout",
     "output_type": "stream",
     "text": [
      "2 embeddings generated\n"
     ]
    }
   ],
   "source": [
    "texts = [\n",
    "    \"This policy covers fire and theft.\",\n",
    "    \"Exclusions include flood and earthquake damage.\"\n",
    "]\n",
    "vectors = embeddings.embed_documents(texts)\n",
    "print(len(vectors), \"embeddings generated\")\n"
   ]
  },
  {
   "cell_type": "code",
   "execution_count": null,
   "id": "e2eeba95",
   "metadata": {},
   "outputs": [],
   "source": [
    "pip install faiss-cpu"
   ]
  },
  {
   "cell_type": "code",
   "execution_count": 34,
   "id": "64734c15",
   "metadata": {},
   "outputs": [],
   "source": [
    "from langchain_community.vectorstores import FAISS\n",
    "from langchain_openai import OpenAIEmbeddings\n",
    "from langchain.schema import Document\n",
    "\n",
    "embeddings = OpenAIEmbeddings(model=\"text-embedding-3-small\", api_key=OPENAI_API_KEY)\n",
    "\n",
    "\n",
    "vectorstore = FAISS.from_documents(docs, embeddings)\n",
    "\n",
    "retriever = vectorstore.as_retriever()\n"
   ]
  },
  {
   "cell_type": "code",
   "execution_count": 35,
   "id": "dc6603c3",
   "metadata": {},
   "outputs": [
    {
     "name": "stdout",
     "output_type": "stream",
     "text": [
      "Exclusions include flood and earthquake damage.\n",
      "This policy covers fire and theft.\n"
     ]
    }
   ],
   "source": [
    "query = \"Does this cover earthquakes?\"\n",
    "results = retriever.get_relevant_documents(query)\n",
    "\n",
    "for r in results:\n",
    "    print(r.page_content)\n"
   ]
  },
  {
   "cell_type": "code",
   "execution_count": null,
   "id": "3db3d4b4",
   "metadata": {},
   "outputs": [],
   "source": [
    " "
   ]
  },
  {
   "cell_type": "code",
   "execution_count": 51,
   "id": "8625aa2e",
   "metadata": {},
   "outputs": [
    {
     "data": {
      "text/plain": [
       "<function dotenv.main.load_dotenv(dotenv_path: Union[str, ForwardRef('os.PathLike[str]'), NoneType] = None, stream: Optional[IO[str]] = None, verbose: bool = False, override: bool = False, interpolate: bool = True, encoding: Optional[str] = 'utf-8') -> bool>"
      ]
     },
     "execution_count": 51,
     "metadata": {},
     "output_type": "execute_result"
    }
   ],
   "source": [
    "from dotenv import load_dotenv\n",
    "\n",
    "\n",
    "load_dotenv"
   ]
  },
  {
   "cell_type": "code",
   "execution_count": null,
   "id": "f4ba7733",
   "metadata": {},
   "outputs": [],
   "source": [
    "pip install -U langchain-community huggingface_hub\n"
   ]
  },
  {
   "cell_type": "code",
   "execution_count": 95,
   "id": "7cdc96a3",
   "metadata": {},
   "outputs": [],
   "source": [
    "from langchain_openai import OpenAI\n",
    "from langchain_openai import ChatOpenAI\n",
    "import textwrap\n",
    "#from langchain_huggingface import HuggingFaceEmbeddings\n",
    "from langchain_openai import OpenAIEmbeddings\n",
    "from langchain.prompts import *\n",
    "from config import OPENAI_API_KEY\n",
    "from langchain_core.output_parsers import StrOutputParser\n",
    "from langchain_community.document_loaders import TextLoader"
   ]
  },
  {
   "cell_type": "code",
   "execution_count": null,
   "id": "ea48bec8",
   "metadata": {},
   "outputs": [],
   "source": [
    "loader = TextLoader(r\"C:\\Users\\CHINMAYI SURYAMATH\\Desktop\\ML PROJECT ECOMMERCE\\NN_pdf\\Data\\refund.txt\")\n"
   ]
  },
  {
   "cell_type": "code",
   "execution_count": null,
   "id": "94718b5e",
   "metadata": {},
   "outputs": [],
   "source": [
    "docs2 = loader.load()"
   ]
  },
  {
   "cell_type": "code",
   "execution_count": null,
   "id": "f4b20227",
   "metadata": {},
   "outputs": [],
   "source": [
    "splitter = RecursiveCharacterTextSplitter(chunk_size =500, chunk_overlap = 30)"
   ]
  },
  {
   "cell_type": "code",
   "execution_count": null,
   "id": "9aa34cad",
   "metadata": {},
   "outputs": [],
   "source": [
    "chunks = splitter.split_documents(docs2)"
   ]
  },
  {
   "cell_type": "code",
   "execution_count": 100,
   "id": "1a9f140d",
   "metadata": {},
   "outputs": [],
   "source": [
    "\n",
    "embedding_model = OpenAIEmbeddings(model=\"text-embedding-3-small\", api_key=OPENAI_API_KEY)\n",
    "\n"
   ]
  },
  {
   "cell_type": "code",
   "execution_count": 115,
   "id": "f952db89",
   "metadata": {},
   "outputs": [
    {
     "data": {
      "text/plain": [
       "OpenAIEmbeddings(client=<openai.resources.embeddings.Embeddings object at 0x000002987A1FDD00>, async_client=<openai.resources.embeddings.AsyncEmbeddings object at 0x000002983CE45040>, model='text-embedding-3-small', dimensions=None, deployment='text-embedding-ada-002', openai_api_version=None, openai_api_base=None, openai_api_type=None, openai_proxy=None, embedding_ctx_length=8191, openai_api_key=SecretStr('**********'), openai_organization=None, allowed_special=None, disallowed_special=None, chunk_size=1000, max_retries=2, request_timeout=None, headers=None, tiktoken_enabled=True, tiktoken_model_name=None, show_progress_bar=False, model_kwargs={}, skip_empty=False, default_headers=None, default_query=None, retry_min_seconds=4, retry_max_seconds=20, http_client=None, http_async_client=None, check_embedding_ctx_length=True)"
      ]
     },
     "execution_count": 115,
     "metadata": {},
     "output_type": "execute_result"
    }
   ],
   "source": [
    "embedding_model"
   ]
  },
  {
   "cell_type": "code",
   "execution_count": 101,
   "id": "30162b6b",
   "metadata": {},
   "outputs": [],
   "source": [
    "vector_store = FAISS.from_documents(chunks, embedding=embedding_model)"
   ]
  },
  {
   "cell_type": "code",
   "execution_count": null,
   "id": "6632faeb",
   "metadata": {},
   "outputs": [],
   "source": []
  },
  {
   "cell_type": "code",
   "execution_count": 102,
   "id": "3afb4ad1",
   "metadata": {},
   "outputs": [],
   "source": [
    "query1 = 'mention which are the Non-Refundable Items'"
   ]
  },
  {
   "cell_type": "code",
   "execution_count": 103,
   "id": "ab2aa6c9",
   "metadata": {},
   "outputs": [],
   "source": [
    "query_answer = vector_store.similarity_search(query1)"
   ]
  },
  {
   "cell_type": "code",
   "execution_count": 105,
   "id": "eb2b6d5f",
   "metadata": {},
   "outputs": [
    {
     "data": {
      "text/plain": [
       "'**Shipping Costs**  \\nYou will be responsible for paying your own shipping costs for returning your item. Shipping costs are non-refundable. If you receive a refund, the cost of return shipping will be deducted from your refund.\\n\\n**Non-Refundable Items**  \\nCertain types of items cannot be returned, such as:\\n- Downloadable software products\\n- Gift cards\\n- Personalized or custom-made items'"
      ]
     },
     "execution_count": 105,
     "metadata": {},
     "output_type": "execute_result"
    }
   ],
   "source": [
    "query_answer[0].page_content"
   ]
  },
  {
   "cell_type": "code",
   "execution_count": null,
   "id": "da2ff80f",
   "metadata": {},
   "outputs": [],
   "source": []
  },
  {
   "cell_type": "code",
   "execution_count": 106,
   "id": "4a90cb30",
   "metadata": {},
   "outputs": [],
   "source": [
    "retriever = vector_store.as_retriever()"
   ]
  },
  {
   "cell_type": "code",
   "execution_count": 107,
   "id": "60c41077",
   "metadata": {},
   "outputs": [],
   "source": [
    "retriever = vector_store.as_retriever(search_type=\"similarity\",search_kwargs={\"k\": 3})"
   ]
  },
  {
   "cell_type": "code",
   "execution_count": 108,
   "id": "0f76f833",
   "metadata": {},
   "outputs": [],
   "source": [
    "from langchain.chains import RetrievalQA\n",
    "from langchain.chat_models import ChatOpenAI\n",
    "\n",
    "llm = ChatOpenAI(model=\"gpt-4o-mini\", temperature=0, api_key=OPENAI_API_KEY)\n",
    "\n",
    "qa_chain = RetrievalQA.from_chain_type(\n",
    "    llm=llm,\n",
    "    retriever=retriever,\n",
    "    chain_type=\"stuff\"   # simplest way: stuff retrieved docs into prompt\n",
    ")\n"
   ]
  },
  {
   "cell_type": "code",
   "execution_count": 109,
   "id": "df3cbd62",
   "metadata": {},
   "outputs": [
    {
     "name": "stdout",
     "output_type": "stream",
     "text": [
      "Q: How many days do I have to return an item?\n",
      "A: You have 30 calendar days to return an item from the date you received it. \n",
      "\n",
      "Q: Are shipping costs refundable?\n",
      "A: No, shipping costs are non-refundable. If you receive a refund, the cost of return shipping will be deducted from your refund.\n"
     ]
    }
   ],
   "source": [
    "query1 = \"How many days do I have to return an item?\"\n",
    "print(\"Q:\", query1)\n",
    "print(\"A:\", qa_chain.run(query1),\"\\n\")\n",
    "\n",
    "query2 = \"Are shipping costs refundable?\"\n",
    "print(\"Q:\", query2)\n",
    "print(\"A:\", qa_chain.run(query2))\n"
   ]
  },
  {
   "cell_type": "code",
   "execution_count": 110,
   "id": "a2b5e306",
   "metadata": {},
   "outputs": [
    {
     "name": "stdout",
     "output_type": "stream",
     "text": [
      "Q: mention which are the Non-Refundable Items\n",
      "A: The non-refundable items include:\n",
      "- Downloadable software products\n",
      "- Gift cards\n",
      "- Personalized or custom-made items \n",
      "\n"
     ]
    }
   ],
   "source": [
    "query3 = 'mention which are the Non-Refundable Items'\n",
    "print(\"Q:\", query3)\n",
    "print(\"A:\", qa_chain.run(query3),\"\\n\")"
   ]
  },
  {
   "cell_type": "code",
   "execution_count": null,
   "id": "87155892",
   "metadata": {},
   "outputs": [],
   "source": []
  },
  {
   "cell_type": "code",
   "execution_count": null,
   "id": "d6a4f65c",
   "metadata": {},
   "outputs": [],
   "source": []
  },
  {
   "cell_type": "code",
   "execution_count": null,
   "id": "45730fbe",
   "metadata": {},
   "outputs": [],
   "source": []
  }
 ],
 "metadata": {
  "kernelspec": {
   "display_name": "NEW_ENV (3.13.1)",
   "language": "python",
   "name": "python3"
  },
  "language_info": {
   "codemirror_mode": {
    "name": "ipython",
    "version": 3
   },
   "file_extension": ".py",
   "mimetype": "text/x-python",
   "name": "python",
   "nbconvert_exporter": "python",
   "pygments_lexer": "ipython3",
   "version": "3.13.1"
  }
 },
 "nbformat": 4,
 "nbformat_minor": 5
}
